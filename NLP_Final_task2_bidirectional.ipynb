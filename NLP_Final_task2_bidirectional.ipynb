{
 "cells": [
  {
   "cell_type": "code",
   "execution_count": 14,
   "metadata": {},
   "outputs": [],
   "source": [
    "import pandas as pd\n",
    "from pyvi import ViTokenizer, ViPosTagger\n",
    "import nltk\n",
    "import numpy as np\n",
    "import warnings\n",
    "import time\n",
    "warnings.filterwarnings('ignore')"
   ]
  },
  {
   "cell_type": "code",
   "execution_count": 15,
   "metadata": {},
   "outputs": [],
   "source": [
    "filename =[\"bạn bè.txt\",\"các câu hỏi phức tạp.txt\",\"du lịch.txt\",\"gia đình.txt\",\"giải trí.txt\",\n",
    "           \"học tập.txt\",\"nghề nghiệp.txt\",\"nghỉ lễ.txt\",\"người yêu.txt\",\"robot.txt\",\"shoping.txt\",\n",
    "           \"sở thích.txt\",\"tdtu.txt\",\"thông tin cá nhân.txt\",\"trò chuyện về đi ăn.txt\",\"tán gẫu.txt\",\"đất nước.txt\",\"địa chỉ.txt\"]"
   ]
  },
  {
   "cell_type": "markdown",
   "metadata": {},
   "source": [
    "## 1. Import data"
   ]
  },
  {
   "cell_type": "code",
   "execution_count": 16,
   "metadata": {},
   "outputs": [],
   "source": [
    "# import train data\n",
    "temp_ques = []\n",
    "temp_ans = []\n",
    "tag = []\n",
    "for k in range(len(filename)):\n",
    "    with open('dataset/' + filename[k], encoding='utf-8') as f:\n",
    "        lines = f.readlines()\n",
    "    for i in range(len(lines)):\n",
    "        if lines[i].startswith('__eou__'):\n",
    "            continue\n",
    "        else:\n",
    "            part = lines[i].strip('__eou__').split('__eou__')\n",
    "            temp_ques.append(ViTokenizer.tokenize(part[0].lower().strip()))\n",
    "            temp_ans.append(ViTokenizer.tokenize(part[1].lower().strip()))\n",
    "            tag.append(filename[k].split(\".\")[0])"
   ]
  },
  {
   "cell_type": "code",
   "execution_count": 17,
   "metadata": {},
   "outputs": [
    {
     "data": {
      "text/html": [
       "<div>\n",
       "<style scoped>\n",
       "    .dataframe tbody tr th:only-of-type {\n",
       "        vertical-align: middle;\n",
       "    }\n",
       "\n",
       "    .dataframe tbody tr th {\n",
       "        vertical-align: top;\n",
       "    }\n",
       "\n",
       "    .dataframe thead th {\n",
       "        text-align: right;\n",
       "    }\n",
       "</style>\n",
       "<table border=\"1\" class=\"dataframe\">\n",
       "  <thead>\n",
       "    <tr style=\"text-align: right;\">\n",
       "      <th></th>\n",
       "      <th>Question</th>\n",
       "      <th>Answer</th>\n",
       "      <th>Tag</th>\n",
       "    </tr>\n",
       "  </thead>\n",
       "  <tbody>\n",
       "    <tr>\n",
       "      <th>0</th>\n",
       "      <td>thích đánh_lộn không ?</td>\n",
       "      <td>ngon nhà_vô</td>\n",
       "      <td>bạn bè</td>\n",
       "    </tr>\n",
       "    <tr>\n",
       "      <th>1</th>\n",
       "      <td>solo yasua không</td>\n",
       "      <td>chấp lun 2 mạng đầu</td>\n",
       "      <td>bạn bè</td>\n",
       "    </tr>\n",
       "    <tr>\n",
       "      <th>2</th>\n",
       "      <td>mai đi picnic không ?</td>\n",
       "      <td>mai bận học rồi</td>\n",
       "      <td>bạn bè</td>\n",
       "    </tr>\n",
       "    <tr>\n",
       "      <th>3</th>\n",
       "      <td>mai học ca mấy vậy ?</td>\n",
       "      <td>mai học ca 3</td>\n",
       "      <td>bạn bè</td>\n",
       "    </tr>\n",
       "    <tr>\n",
       "      <th>4</th>\n",
       "      <td>còn tiền không ?</td>\n",
       "      <td>còn chết liền</td>\n",
       "      <td>bạn bè</td>\n",
       "    </tr>\n",
       "  </tbody>\n",
       "</table>\n",
       "</div>"
      ],
      "text/plain": [
       "                 Question               Answer     Tag\n",
       "0  thích đánh_lộn không ?          ngon nhà_vô  bạn bè\n",
       "1        solo yasua không  chấp lun 2 mạng đầu  bạn bè\n",
       "2   mai đi picnic không ?      mai bận học rồi  bạn bè\n",
       "3    mai học ca mấy vậy ?         mai học ca 3  bạn bè\n",
       "4        còn tiền không ?        còn chết liền  bạn bè"
      ]
     },
     "execution_count": 17,
     "metadata": {},
     "output_type": "execute_result"
    }
   ],
   "source": [
    "data = pd.DataFrame({'Question':temp_ques,'Answer':temp_ans,'Tag':tag})\n",
    "data.head()"
   ]
  },
  {
   "cell_type": "code",
   "execution_count": 18,
   "metadata": {},
   "outputs": [],
   "source": [
    "ques = np.array(data[\"Question\"])\n",
    "ans = np.array(data[\"Answer\"])"
   ]
  },
  {
   "cell_type": "markdown",
   "metadata": {},
   "source": [
    "## 2. Data preprocessing"
   ]
  },
  {
   "cell_type": "code",
   "execution_count": 19,
   "metadata": {},
   "outputs": [],
   "source": [
    "lst_empty_answer_index = []\n",
    "for i in range(len(ans)):\n",
    "    if(ans[i] == \"\"):\n",
    "        lst_empty_answer_index.append(i)"
   ]
  },
  {
   "cell_type": "code",
   "execution_count": 20,
   "metadata": {},
   "outputs": [],
   "source": [
    "for i in lst_empty_answer_index:\n",
    "    ques = np.delete(ques, i)\n",
    "    ans = np.delete(ans, i)"
   ]
  },
  {
   "cell_type": "code",
   "execution_count": 21,
   "metadata": {},
   "outputs": [],
   "source": [
    "def clean_sentences(sentences):\n",
    "    Punc = {'.', ',', '...', '-', '“', '”', ':', '(', ')', '\"', '!', '&', ';', '?', '*', ']', '>', '…', '’',\"``\",\"''\"}\n",
    "    for i, sent in enumerate(sentences):\n",
    "        sent = sent.lower()\n",
    "        \n",
    "        sent = [char for char in sent if char not in Punc]\n",
    "        sent = \"\".join(sent)\n",
    "        \n",
    "        sent = sent.replace(\"   \", \" \")\n",
    "        sent = sent.replace(\"  \", \" \")\n",
    "        sent = sent.strip()\n",
    "        \n",
    "        sentences[i] = sent\n",
    "    return sentences"
   ]
  },
  {
   "cell_type": "code",
   "execution_count": 22,
   "metadata": {},
   "outputs": [],
   "source": [
    "clean_ques = clean_sentences(ques)\n",
    "clean_ans = clean_sentences(ans)"
   ]
  },
  {
   "cell_type": "code",
   "execution_count": 23,
   "metadata": {},
   "outputs": [],
   "source": [
    "word2count = {}\n",
    "for sent in clean_ques:\n",
    "    for word in sent.split():\n",
    "        if word not in word2count:\n",
    "            word2count[word] = 1\n",
    "        else:\n",
    "            word2count[word] += 1\n",
    "\n",
    "for sent in clean_ans:\n",
    "    for word in sent.split():\n",
    "        if word not in word2count:\n",
    "            word2count[word] = 1\n",
    "        else:\n",
    "            word2count[word] += 1"
   ]
  },
  {
   "cell_type": "code",
   "execution_count": 24,
   "metadata": {},
   "outputs": [
    {
     "data": {
      "text/plain": [
       "4766"
      ]
     },
     "execution_count": 24,
     "metadata": {},
     "output_type": "execute_result"
    }
   ],
   "source": [
    "len(word2count)"
   ]
  },
  {
   "cell_type": "code",
   "execution_count": 25,
   "metadata": {},
   "outputs": [],
   "source": [
    "thresh = 1\n",
    "word2index = {}\n",
    "word_num = 0\n",
    "\n",
    "for word, count in word2count.items():\n",
    "    if (count >= thresh):\n",
    "        word2index[word] = word_num\n",
    "        word_num += 1"
   ]
  },
  {
   "cell_type": "code",
   "execution_count": 26,
   "metadata": {},
   "outputs": [
    {
     "data": {
      "text/plain": [
       "4766"
      ]
     },
     "execution_count": 26,
     "metadata": {},
     "output_type": "execute_result"
    }
   ],
   "source": [
    "len(word2index)"
   ]
  },
  {
   "cell_type": "code",
   "execution_count": 27,
   "metadata": {},
   "outputs": [],
   "source": [
    "for i in range(len(clean_ans)):\n",
    "    clean_ans[i] = '<BOS> ' + clean_ans[i] + ' <EOS>'"
   ]
  },
  {
   "cell_type": "code",
   "execution_count": 28,
   "metadata": {},
   "outputs": [
    {
     "data": {
      "text/plain": [
       "5769"
      ]
     },
     "execution_count": 28,
     "metadata": {},
     "output_type": "execute_result"
    }
   ],
   "source": [
    "len(clean_ans)"
   ]
  },
  {
   "cell_type": "code",
   "execution_count": 29,
   "metadata": {},
   "outputs": [],
   "source": [
    "tokens = ['<BOS>', '<EOS>', '<OUT>']\n",
    "x = len(word2index)\n",
    "for token in tokens:\n",
    "    word2index[token] = x\n",
    "    x += 1"
   ]
  },
  {
   "cell_type": "code",
   "execution_count": 30,
   "metadata": {},
   "outputs": [
    {
     "data": {
      "text/plain": [
       "4769"
      ]
     },
     "execution_count": 30,
     "metadata": {},
     "output_type": "execute_result"
    }
   ],
   "source": [
    "len(word2index)"
   ]
  },
  {
   "cell_type": "code",
   "execution_count": 31,
   "metadata": {},
   "outputs": [
    {
     "data": {
      "text/plain": [
       "4769"
      ]
     },
     "execution_count": 31,
     "metadata": {},
     "output_type": "execute_result"
    }
   ],
   "source": [
    "index2word = {w: v for v, w in word2index.items()}\n",
    "len(index2word)"
   ]
  },
  {
   "cell_type": "code",
   "execution_count": 32,
   "metadata": {},
   "outputs": [],
   "source": [
    "encoder_input = []\n",
    "for sent in clean_ques:\n",
    "    lst = []\n",
    "    for word in sent.split():\n",
    "        if word not in word2index:\n",
    "            lst.append(word2index[\"<OUT>\"])\n",
    "        else:\n",
    "            lst.append(word2index[word])\n",
    "    encoder_input.append(lst)"
   ]
  },
  {
   "cell_type": "code",
   "execution_count": 33,
   "metadata": {},
   "outputs": [
    {
     "data": {
      "text/plain": [
       "5769"
      ]
     },
     "execution_count": 33,
     "metadata": {},
     "output_type": "execute_result"
    }
   ],
   "source": [
    "len(encoder_input)"
   ]
  },
  {
   "cell_type": "code",
   "execution_count": 34,
   "metadata": {},
   "outputs": [],
   "source": [
    "decoder_input = []\n",
    "for sent in clean_ans:\n",
    "    lst = []\n",
    "    for word in sent.split():\n",
    "        if word not in word2index:\n",
    "            lst.append(word2index[\"<OUT>\"])\n",
    "        else:\n",
    "            lst.append(word2index[word])\n",
    "    decoder_input.append(lst)"
   ]
  },
  {
   "cell_type": "code",
   "execution_count": 35,
   "metadata": {},
   "outputs": [
    {
     "data": {
      "text/plain": [
       "5769"
      ]
     },
     "execution_count": 35,
     "metadata": {},
     "output_type": "execute_result"
    }
   ],
   "source": [
    "len(decoder_input)"
   ]
  },
  {
   "cell_type": "markdown",
   "metadata": {},
   "source": [
    "## 3. BiLSTM Model"
   ]
  },
  {
   "cell_type": "code",
   "execution_count": 36,
   "metadata": {},
   "outputs": [],
   "source": [
    "from keras.preprocessing.sequence import pad_sequences\n",
    "MAX_LEN = 20\n",
    "encoder_input = pad_sequences(encoder_input, MAX_LEN, padding='post', truncating='post')\n",
    "decoder_input = pad_sequences(decoder_input, MAX_LEN, padding='post', truncating='post')"
   ]
  },
  {
   "cell_type": "code",
   "execution_count": 37,
   "metadata": {},
   "outputs": [],
   "source": [
    "decoder_final_output = []\n",
    "for i in decoder_input:\n",
    "    decoder_final_output.append(i[1:])"
   ]
  },
  {
   "cell_type": "code",
   "execution_count": 38,
   "metadata": {},
   "outputs": [
    {
     "data": {
      "text/plain": [
       "[array([ 986, 2522, 4767,    0,    0,    0,    0,    0,    0,    0,    0,\n",
       "           0,    0,    0,    0,    0,    0,    0,    0]),\n",
       " array([2523, 2252,  453,  490,  474, 4767,    0,    0,    0,    0,    0,\n",
       "           0,    0,    0,    0,    0,    0,    0,    0]),\n",
       " array([   5,  803,    8,   15, 4767,    0,    0,    0,    0,    0,    0,\n",
       "           0,    0,    0,    0,    0,    0,    0,    0])]"
      ]
     },
     "execution_count": 38,
     "metadata": {},
     "output_type": "execute_result"
    }
   ],
   "source": [
    "decoder_final_output[:3]"
   ]
  },
  {
   "cell_type": "code",
   "execution_count": 39,
   "metadata": {},
   "outputs": [
    {
     "data": {
      "text/plain": [
       "array([[ 986, 2522, 4767,    0,    0,    0,    0,    0,    0,    0,    0,\n",
       "           0,    0,    0,    0,    0,    0,    0,    0,    0],\n",
       "       [2523, 2252,  453,  490,  474, 4767,    0,    0,    0,    0,    0,\n",
       "           0,    0,    0,    0,    0,    0,    0,    0,    0],\n",
       "       [   5,  803,    8,   15, 4767,    0,    0,    0,    0,    0,    0,\n",
       "           0,    0,    0,    0,    0,    0,    0,    0,    0]])"
      ]
     },
     "execution_count": 39,
     "metadata": {},
     "output_type": "execute_result"
    }
   ],
   "source": [
    "decoder_final_output = pad_sequences(decoder_final_output, MAX_LEN, padding='post', truncating='post')\n",
    "decoder_final_output[:3]"
   ]
  },
  {
   "cell_type": "code",
   "execution_count": 40,
   "metadata": {},
   "outputs": [],
   "source": [
    "from keras.utils import to_categorical\n",
    "decoder_final_output = to_categorical(decoder_final_output, len(word2index))"
   ]
  },
  {
   "cell_type": "code",
   "execution_count": 41,
   "metadata": {},
   "outputs": [
    {
     "data": {
      "text/plain": [
       "(5769, 20, 4769)"
      ]
     },
     "execution_count": 41,
     "metadata": {},
     "output_type": "execute_result"
    }
   ],
   "source": [
    "decoder_final_output.shape"
   ]
  },
  {
   "cell_type": "code",
   "execution_count": 7,
   "metadata": {},
   "outputs": [],
   "source": [
    "from keras.layers import Embedding, Bidirectional, Concatenate\n",
    "from keras.layers import Input, Dense, LSTM, TimeDistributed\n",
    "from keras.models import Model\n",
    "from keras.callbacks import EarlyStopping"
   ]
  },
  {
   "cell_type": "code",
   "execution_count": 45,
   "metadata": {},
   "outputs": [],
   "source": [
    "# Define input\n",
    "enc_inp = Input(shape=(MAX_LEN, ))\n",
    "dec_inp = Input(shape=(MAX_LEN, ))\n",
    "\n",
    "VOCAB_SIZE = len(word2index)\n",
    "HIDDEN_DIM = 200\n",
    "embedding_dimention = 100\n",
    "\n",
    "# Define embedding layer\n",
    "embed = Embedding(VOCAB_SIZE + 1, output_dim = embedding_dimention, input_length = MAX_LEN, trainable = True)"
   ]
  },
  {
   "cell_type": "code",
   "execution_count": 41,
   "metadata": {},
   "outputs": [],
   "source": [
    "# Define encoder layers\n",
    "enc_embed = embed(enc_inp)\n",
    "enc_lstm = Bidirectional(LSTM(HIDDEN_DIM, return_sequences = True, return_state = True))\n",
    "enc_op, forward_h, forward_c, backward_h, backward_c = enc_lstm(enc_embed)\n",
    "\n",
    "h = Concatenate()([forward_h, backward_h])\n",
    "c = Concatenate()([forward_c, backward_c])\n",
    "enc_states = [h, c]\n",
    "\n",
    "#Define decoder layers\n",
    "dec_embed = embed(dec_inp)\n",
    "dec_lstm = LSTM(HIDDEN_DIM*2, return_sequences = True, return_state = True)\n",
    "dec_op, _, _ = dec_lstm(dec_embed, initial_state = enc_states)\n",
    "\n",
    "dense = Dense(VOCAB_SIZE, activation = \"softmax\")\n",
    "\n",
    "dense_op = dense(dec_op)\n",
    "\n",
    "model = Model([enc_inp, dec_inp], dense_op)"
   ]
  },
  {
   "cell_type": "markdown",
   "metadata": {},
   "source": [
    "## 4. Train model"
   ]
  },
  {
   "cell_type": "code",
   "execution_count": 42,
   "metadata": {},
   "outputs": [
    {
     "name": "stdout",
     "output_type": "stream",
     "text": [
      "Epoch 1/100\n",
      "181/181 [==============================] - 93s 511ms/step - loss: 2.8858 - acc: 0.6312 - val_loss: 2.2910 - val_acc: 0.6658\n",
      "Epoch 2/100\n",
      "181/181 [==============================] - 91s 503ms/step - loss: 2.2872 - acc: 0.6664 - val_loss: 2.2238 - val_acc: 0.6668\n",
      "Epoch 3/100\n",
      "181/181 [==============================] - 92s 510ms/step - loss: 2.2337 - acc: 0.6673 - val_loss: 2.1767 - val_acc: 0.6687\n",
      "Epoch 4/100\n",
      "181/181 [==============================] - 91s 504ms/step - loss: 2.1832 - acc: 0.6695 - val_loss: 2.1127 - val_acc: 0.6724\n",
      "Epoch 5/100\n",
      "181/181 [==============================] - 91s 500ms/step - loss: 2.1131 - acc: 0.6746 - val_loss: 2.0332 - val_acc: 0.6774\n",
      "Epoch 6/100\n",
      "181/181 [==============================] - 90s 499ms/step - loss: 2.0400 - acc: 0.6785 - val_loss: 1.9599 - val_acc: 0.6806\n",
      "Epoch 7/100\n",
      "181/181 [==============================] - 90s 500ms/step - loss: 1.9718 - acc: 0.6823 - val_loss: 1.8891 - val_acc: 0.6845\n",
      "Epoch 8/100\n",
      "181/181 [==============================] - 91s 501ms/step - loss: 1.9052 - acc: 0.6863 - val_loss: 1.8205 - val_acc: 0.6892\n",
      "Epoch 9/100\n",
      "181/181 [==============================] - 91s 502ms/step - loss: 1.8371 - acc: 0.6901 - val_loss: 1.7541 - val_acc: 0.6953\n",
      "Epoch 10/100\n",
      "181/181 [==============================] - 90s 499ms/step - loss: 1.7683 - acc: 0.6954 - val_loss: 1.6749 - val_acc: 0.6996\n",
      "Epoch 11/100\n",
      "181/181 [==============================] - 90s 500ms/step - loss: 1.6977 - acc: 0.7001 - val_loss: 1.6057 - val_acc: 0.7058\n",
      "Epoch 12/100\n",
      "181/181 [==============================] - 91s 501ms/step - loss: 1.6285 - acc: 0.7058 - val_loss: 1.5304 - val_acc: 0.7123\n",
      "Epoch 13/100\n",
      "181/181 [==============================] - 91s 503ms/step - loss: 1.5591 - acc: 0.7107 - val_loss: 1.4623 - val_acc: 0.7202\n",
      "Epoch 14/100\n",
      "181/181 [==============================] - 90s 499ms/step - loss: 1.4897 - acc: 0.7177 - val_loss: 1.3893 - val_acc: 0.7307\n",
      "Epoch 15/100\n",
      "181/181 [==============================] - 90s 499ms/step - loss: 1.4210 - acc: 0.7252 - val_loss: 1.3230 - val_acc: 0.7401\n",
      "Epoch 16/100\n",
      "181/181 [==============================] - 90s 496ms/step - loss: 1.3548 - acc: 0.7346 - val_loss: 1.2546 - val_acc: 0.7487\n",
      "Epoch 17/100\n",
      "181/181 [==============================] - 90s 498ms/step - loss: 1.2900 - acc: 0.7441 - val_loss: 1.1938 - val_acc: 0.7597\n",
      "Epoch 18/100\n",
      "181/181 [==============================] - 90s 500ms/step - loss: 1.2282 - acc: 0.7531 - val_loss: 1.1327 - val_acc: 0.7691\n",
      "Epoch 19/100\n",
      "181/181 [==============================] - 90s 499ms/step - loss: 1.1683 - acc: 0.7630 - val_loss: 1.0773 - val_acc: 0.7786\n",
      "Epoch 20/100\n",
      "181/181 [==============================] - 91s 504ms/step - loss: 1.1123 - acc: 0.7724 - val_loss: 1.0287 - val_acc: 0.7857\n",
      "Epoch 21/100\n",
      "181/181 [==============================] - 90s 499ms/step - loss: 1.0589 - acc: 0.7807 - val_loss: 0.9737 - val_acc: 0.7969\n",
      "Epoch 22/100\n",
      "181/181 [==============================] - 89s 494ms/step - loss: 1.0089 - acc: 0.7904 - val_loss: 0.9284 - val_acc: 0.8029\n",
      "Epoch 23/100\n",
      "181/181 [==============================] - 89s 494ms/step - loss: 0.9600 - acc: 0.7984 - val_loss: 0.8808 - val_acc: 0.8142\n",
      "Epoch 24/100\n",
      "181/181 [==============================] - 90s 499ms/step - loss: 0.9132 - acc: 0.8067 - val_loss: 0.8407 - val_acc: 0.8191\n",
      "Epoch 25/100\n",
      "181/181 [==============================] - 89s 494ms/step - loss: 0.8699 - acc: 0.8151 - val_loss: 0.7958 - val_acc: 0.8305\n",
      "Epoch 26/100\n",
      "181/181 [==============================] - 89s 493ms/step - loss: 0.8287 - acc: 0.8230 - val_loss: 0.7606 - val_acc: 0.8403\n",
      "Epoch 27/100\n",
      "181/181 [==============================] - 89s 494ms/step - loss: 0.7880 - acc: 0.8310 - val_loss: 0.7235 - val_acc: 0.8454\n",
      "Epoch 28/100\n",
      "181/181 [==============================] - 89s 492ms/step - loss: 0.7505 - acc: 0.8387 - val_loss: 0.6863 - val_acc: 0.8521\n",
      "Epoch 29/100\n",
      "181/181 [==============================] - 89s 492ms/step - loss: 0.7135 - acc: 0.8464 - val_loss: 0.6523 - val_acc: 0.8582\n",
      "Epoch 30/100\n",
      "181/181 [==============================] - 89s 494ms/step - loss: 0.6798 - acc: 0.8530 - val_loss: 0.6202 - val_acc: 0.8663\n",
      "Epoch 31/100\n",
      "181/181 [==============================] - 89s 493ms/step - loss: 0.6467 - acc: 0.8604 - val_loss: 0.5878 - val_acc: 0.8742\n",
      "Epoch 32/100\n",
      "181/181 [==============================] - 90s 495ms/step - loss: 0.6138 - acc: 0.8670 - val_loss: 0.5556 - val_acc: 0.8822\n",
      "Epoch 33/100\n",
      "181/181 [==============================] - 90s 495ms/step - loss: 0.5849 - acc: 0.8733 - val_loss: 0.5303 - val_acc: 0.8856\n",
      "Epoch 34/100\n",
      "181/181 [==============================] - 90s 498ms/step - loss: 0.5554 - acc: 0.8794 - val_loss: 0.5036 - val_acc: 0.8919\n",
      "Epoch 35/100\n",
      "181/181 [==============================] - 90s 495ms/step - loss: 0.5272 - acc: 0.8855 - val_loss: 0.4753 - val_acc: 0.9006\n",
      "Epoch 36/100\n",
      "181/181 [==============================] - 90s 496ms/step - loss: 0.5005 - acc: 0.8924 - val_loss: 0.4529 - val_acc: 0.9056\n",
      "Epoch 37/100\n",
      "181/181 [==============================] - 89s 494ms/step - loss: 0.4753 - acc: 0.8980 - val_loss: 0.4277 - val_acc: 0.9101\n",
      "Epoch 38/100\n",
      "181/181 [==============================] - 90s 496ms/step - loss: 0.4519 - acc: 0.9027 - val_loss: 0.4054 - val_acc: 0.9152\n",
      "Epoch 39/100\n",
      "181/181 [==============================] - 90s 497ms/step - loss: 0.4292 - acc: 0.9081 - val_loss: 0.3837 - val_acc: 0.9199\n",
      "Epoch 40/100\n",
      "181/181 [==============================] - 90s 500ms/step - loss: 0.4074 - acc: 0.9133 - val_loss: 0.3640 - val_acc: 0.9254\n",
      "Epoch 41/100\n",
      "181/181 [==============================] - 90s 495ms/step - loss: 0.3862 - acc: 0.9178 - val_loss: 0.3454 - val_acc: 0.9286\n",
      "Epoch 42/100\n",
      "181/181 [==============================] - 90s 495ms/step - loss: 0.3644 - acc: 0.9234 - val_loss: 0.3257 - val_acc: 0.9339\n",
      "Epoch 43/100\n",
      "181/181 [==============================] - 90s 496ms/step - loss: 0.3467 - acc: 0.9273 - val_loss: 0.3112 - val_acc: 0.9363\n",
      "Epoch 44/100\n",
      "181/181 [==============================] - 91s 500ms/step - loss: 0.3293 - acc: 0.9314 - val_loss: 0.2915 - val_acc: 0.9411\n",
      "Epoch 45/100\n",
      "181/181 [==============================] - 90s 496ms/step - loss: 0.3116 - acc: 0.9347 - val_loss: 0.2777 - val_acc: 0.9441\n",
      "Epoch 46/100\n",
      "181/181 [==============================] - 89s 494ms/step - loss: 0.2944 - acc: 0.9391 - val_loss: 0.2621 - val_acc: 0.9481\n",
      "Epoch 47/100\n",
      "181/181 [==============================] - 89s 490ms/step - loss: 0.2780 - acc: 0.9428 - val_loss: 0.2481 - val_acc: 0.9518\n",
      "Epoch 48/100\n",
      "181/181 [==============================] - 89s 493ms/step - loss: 0.2653 - acc: 0.9456 - val_loss: 0.2373 - val_acc: 0.9527\n",
      "Epoch 49/100\n",
      "181/181 [==============================] - 89s 492ms/step - loss: 0.2516 - acc: 0.9487 - val_loss: 0.2204 - val_acc: 0.9567\n",
      "Epoch 50/100\n",
      "181/181 [==============================] - 89s 491ms/step - loss: 0.2375 - acc: 0.9517 - val_loss: 0.2108 - val_acc: 0.9591\n",
      "Epoch 51/100\n",
      "181/181 [==============================] - 89s 493ms/step - loss: 0.2245 - acc: 0.9547 - val_loss: 0.1971 - val_acc: 0.9617\n",
      "Epoch 52/100\n",
      "181/181 [==============================] - 90s 497ms/step - loss: 0.2128 - acc: 0.9567 - val_loss: 0.1865 - val_acc: 0.9644\n",
      "Epoch 53/100\n",
      "181/181 [==============================] - 89s 490ms/step - loss: 0.2006 - acc: 0.9594 - val_loss: 0.1767 - val_acc: 0.9662\n",
      "Epoch 54/100\n",
      "181/181 [==============================] - 90s 495ms/step - loss: 0.1895 - acc: 0.9618 - val_loss: 0.1678 - val_acc: 0.9681\n",
      "Epoch 55/100\n",
      "181/181 [==============================] - 90s 499ms/step - loss: 0.1803 - acc: 0.9639 - val_loss: 0.1560 - val_acc: 0.9706\n",
      "Epoch 56/100\n",
      "181/181 [==============================] - 89s 490ms/step - loss: 0.1703 - acc: 0.9654 - val_loss: 0.1485 - val_acc: 0.9719\n",
      "Epoch 57/100\n",
      "181/181 [==============================] - 89s 492ms/step - loss: 0.1609 - acc: 0.9680 - val_loss: 0.1393 - val_acc: 0.9734\n",
      "Epoch 58/100\n",
      "181/181 [==============================] - 90s 497ms/step - loss: 0.1515 - acc: 0.9700 - val_loss: 0.1310 - val_acc: 0.9746\n",
      "Epoch 59/100\n",
      "181/181 [==============================] - 90s 496ms/step - loss: 0.1434 - acc: 0.9711 - val_loss: 0.1228 - val_acc: 0.9770\n",
      "Epoch 60/100\n",
      "181/181 [==============================] - 90s 495ms/step - loss: 0.1351 - acc: 0.9730 - val_loss: 0.1163 - val_acc: 0.9782\n"
     ]
    },
    {
     "name": "stdout",
     "output_type": "stream",
     "text": [
      "Epoch 61/100\n",
      "181/181 [==============================] - 89s 493ms/step - loss: 0.1289 - acc: 0.9740 - val_loss: 0.1096 - val_acc: 0.9789\n",
      "Epoch 62/100\n",
      "181/181 [==============================] - 89s 492ms/step - loss: 0.1209 - acc: 0.9755 - val_loss: 0.1041 - val_acc: 0.9803\n",
      "Epoch 63/100\n",
      "181/181 [==============================] - 90s 495ms/step - loss: 0.1165 - acc: 0.9766 - val_loss: 0.1006 - val_acc: 0.9812\n",
      "Epoch 64/100\n",
      "181/181 [==============================] - 90s 495ms/step - loss: 0.1107 - acc: 0.9779 - val_loss: 0.0951 - val_acc: 0.9826\n",
      "Epoch 65/100\n",
      "181/181 [==============================] - 91s 500ms/step - loss: 0.1068 - acc: 0.9789 - val_loss: 0.0913 - val_acc: 0.9829\n",
      "Epoch 66/100\n",
      "181/181 [==============================] - 89s 492ms/step - loss: 0.1031 - acc: 0.9799 - val_loss: 0.0863 - val_acc: 0.9843\n",
      "Epoch 67/100\n",
      "181/181 [==============================] - 89s 494ms/step - loss: 0.0968 - acc: 0.9808 - val_loss: 0.0807 - val_acc: 0.9856\n",
      "Epoch 68/100\n",
      "181/181 [==============================] - 89s 494ms/step - loss: 0.0875 - acc: 0.9825 - val_loss: 0.0734 - val_acc: 0.9866\n",
      "Epoch 69/100\n",
      "181/181 [==============================] - 89s 493ms/step - loss: 0.0817 - acc: 0.9837 - val_loss: 0.0697 - val_acc: 0.9868\n",
      "Epoch 70/100\n",
      "181/181 [==============================] - 91s 500ms/step - loss: 0.0771 - acc: 0.9841 - val_loss: 0.0639 - val_acc: 0.9880\n",
      "Epoch 71/100\n",
      "181/181 [==============================] - 90s 498ms/step - loss: 0.0733 - acc: 0.9848 - val_loss: 0.0637 - val_acc: 0.9878\n",
      "Epoch 72/100\n",
      "181/181 [==============================] - 90s 496ms/step - loss: 0.0697 - acc: 0.9853 - val_loss: 0.0579 - val_acc: 0.9888\n",
      "Epoch 73/100\n",
      "181/181 [==============================] - 89s 493ms/step - loss: 0.0670 - acc: 0.9863 - val_loss: 0.0557 - val_acc: 0.9892\n",
      "Epoch 74/100\n",
      "181/181 [==============================] - 89s 493ms/step - loss: 0.0639 - acc: 0.9865 - val_loss: 0.0527 - val_acc: 0.9897\n",
      "Epoch 75/100\n",
      "181/181 [==============================] - 91s 502ms/step - loss: 0.0603 - acc: 0.9874 - val_loss: 0.0500 - val_acc: 0.9901\n",
      "Epoch 76/100\n",
      "181/181 [==============================] - 90s 495ms/step - loss: 0.0574 - acc: 0.9877 - val_loss: 0.0493 - val_acc: 0.9898\n",
      "Epoch 77/100\n",
      "181/181 [==============================] - 89s 492ms/step - loss: 0.0564 - acc: 0.9881 - val_loss: 0.0463 - val_acc: 0.9906\n",
      "Epoch 78/100\n",
      "181/181 [==============================] - 89s 492ms/step - loss: 0.0541 - acc: 0.9883 - val_loss: 0.0445 - val_acc: 0.9912\n",
      "Epoch 79/100\n",
      "181/181 [==============================] - 89s 493ms/step - loss: 0.0655 - acc: 0.9858 - val_loss: 0.0758 - val_acc: 0.9843\n",
      "Epoch 00079: early stopping\n"
     ]
    }
   ],
   "source": [
    "# Train model\n",
    "model.compile(loss='categorical_crossentropy',metrics=['acc'],optimizer='adam')\n",
    "\n",
    "BATCH_SIZE = 32\n",
    "EPOCHS = 100\n",
    "\n",
    "es = EarlyStopping(monitor='val_loss', mode='min', verbose=1)\n",
    "\n",
    "history = model.fit([encoder_input, decoder_input],\n",
    "                    decoder_final_output,\n",
    "                    epochs=EPOCHS, \n",
    "                    callbacks=[es],\n",
    "                    batch_size=BATCH_SIZE,\n",
    "                    validation_data = ([encoder_input, decoder_input], decoder_final_output))"
   ]
  },
  {
   "cell_type": "code",
   "execution_count": 3,
   "metadata": {},
   "outputs": [],
   "source": [
    "model.save(\"Bidirectional_model.h5\")"
   ]
  },
  {
   "cell_type": "code",
   "execution_count": 44,
   "metadata": {},
   "outputs": [
    {
     "data": {
      "image/png": "[encoded data removed]",
      "text/plain": [
       "<Figure size 432x288 with 1 Axes>"
      ]
     },
     "metadata": {
      "needs_background": "light"
     },
     "output_type": "display_data"
    }
   ],
   "source": [
    "from matplotlib import pyplot \n",
    "pyplot.plot(history.history['loss'], label='train') \n",
    "pyplot.plot(history.history['val_loss'], label='test') \n",
    "pyplot.legend() \n",
    "pyplot.show()"
   ]
  },
  {
   "cell_type": "code",
   "execution_count": 4,
   "metadata": {},
   "outputs": [],
   "source": [
    "import keras.models\n",
    "model = keras.models.load_model(\"Bidirectional_model.h5\")"
   ]
  },
  {
   "cell_type": "code",
   "execution_count": 5,
   "metadata": {},
   "outputs": [
    {
     "name": "stdout",
     "output_type": "stream",
     "text": [
      "Model: \"functional_3\"\n",
      "__________________________________________________________________________________________________\n",
      "Layer (type)                    Output Shape         Param #     Connected to                     \n",
      "==================================================================================================\n",
      "input_4 (InputLayer)            [(None, 20)]         0                                            \n",
      "__________________________________________________________________________________________________\n",
      "input_3 (InputLayer)            [(None, 20)]         0                                            \n",
      "__________________________________________________________________________________________________\n",
      "embedding_1 (Embedding)         (None, 20, 100)      477000      input_3[0][0]                    \n",
      "                                                                 input_4[0][0]                    \n",
      "__________________________________________________________________________________________________\n",
      "bidirectional_4 (Bidirectional) [(None, 20, 400), (N 481600      embedding_1[0][0]                \n",
      "__________________________________________________________________________________________________\n",
      "concatenate_4 (Concatenate)     (None, 400)          0           bidirectional_4[0][1]            \n",
      "                                                                 bidirectional_4[0][3]            \n",
      "__________________________________________________________________________________________________\n",
      "concatenate_5 (Concatenate)     (None, 400)          0           bidirectional_4[0][2]            \n",
      "                                                                 bidirectional_4[0][4]            \n",
      "__________________________________________________________________________________________________\n",
      "lstm_7 (LSTM)                   [(None, 20, 400), (N 801600      embedding_1[1][0]                \n",
      "                                                                 concatenate_4[0][0]              \n",
      "                                                                 concatenate_5[0][0]              \n",
      "__________________________________________________________________________________________________\n",
      "dense_1 (Dense)                 (None, 20, 4769)     1912369     lstm_7[0][0]                     \n",
      "==================================================================================================\n",
      "Total params: 3,672,569\n",
      "Trainable params: 3,672,569\n",
      "Non-trainable params: 0\n",
      "__________________________________________________________________________________________________\n"
     ]
    }
   ],
   "source": [
    "model.summary()"
   ]
  },
  {
   "cell_type": "markdown",
   "metadata": {},
   "source": [
    "## 6. Inference process"
   ]
  },
  {
   "cell_type": "code",
   "execution_count": 46,
   "metadata": {},
   "outputs": [],
   "source": [
    "embed = model.layers[2] #Embedding layer\n",
    "enc_lstm = model.layers[3] # Bidirectional layer\n",
    "\n",
    "#Load encoder model\n",
    "enc_inp = model.input[0]\n",
    "enc_embed = embed(enc_inp)\n",
    "enc_op, forward_h, forward_c, backward_h, backward_c = enc_lstm(enc_embed)\n",
    "h = Concatenate()([forward_h, backward_h])\n",
    "c = Concatenate()([forward_c, backward_c])\n",
    "enc_states = [h, c]\n",
    "\n",
    "enc_model = Model([enc_inp], enc_states)"
   ]
  },
  {
   "cell_type": "code",
   "execution_count": 47,
   "metadata": {},
   "outputs": [],
   "source": [
    "#Load decoder model to predict next word\n",
    "decoder_state_input_h = Input(shape=(HIDDEN_DIM*2,))\n",
    "decoder_state_input_c = Input(shape=(HIDDEN_DIM*2,))\n",
    "decoder_states_inputs = [decoder_state_input_h, decoder_state_input_c]\n",
    "\n",
    "dec_inp = model.input[0]\n",
    "dec_embed = embed(dec_inp)\n",
    "dec_lstm = model.layers[6] # Decoder layer\n",
    "dense = model.layers[7] # Dense\n",
    "\n",
    "decoder_outputs, state_h, state_c = dec_lstm(dec_embed , initial_state=decoder_states_inputs)\n",
    "\n",
    "decoder_states = [state_h, state_c]\n",
    "# output = dense(decoder_outputs)\n",
    "\n",
    "dec_model = Model([dec_inp]+ decoder_states_inputs, [decoder_outputs] + decoder_states)"
   ]
  },
  {
   "cell_type": "code",
   "execution_count": 48,
   "metadata": {},
   "outputs": [],
   "source": [
    "def clean_one_sent(sent):\n",
    "    Punc = {'.', ',', '...', '-', '“', '”', ':', '(', ')', '\"', '!', '&', ';', '?', '*', ']', '>', '…', '’',\"``\",\"''\"}\n",
    "    sent = sent.lower()\n",
    "\n",
    "    sent = [char for char in sent if char not in Punc]\n",
    "    sent = \"\".join(sent)\n",
    "\n",
    "    sent = sent.replace(\"   \", \" \")\n",
    "    sent = sent.replace(\"  \", \" \")\n",
    "    sent = sent.strip()\n",
    "\n",
    "    sent = ViTokenizer.tokenize(sent)\n",
    "    \n",
    "    return sent"
   ]
  },
  {
   "cell_type": "code",
   "execution_count": 49,
   "metadata": {},
   "outputs": [
    {
     "name": "stdout",
     "output_type": "stream",
     "text": [
      "Question : bạn có crush chưa ?\n",
      "WARNING:tensorflow:Model was constructed with shape (None, 20) for input Tensor(\"input_3_1:0\", shape=(None, 20), dtype=float32), but it was called on an input with incompatible shape (None, 1).\n",
      "Answer :  mình có rồi \n",
      "Question : solo yasou không ?\n",
      "Answer :  bạn phải thành_đạt trước đã \n",
      "Question : bạn hay uống cafe ở đâu ?\n",
      "Answer :  mình thường hay hẹn_hò ở công_viên bạn nhé \n",
      "Question : quit\n",
      "Answer :  \n"
     ]
    }
   ],
   "source": [
    "prepro1 = \"\"\n",
    "while prepro1 != 'quit':\n",
    "    prepro1  = input(\"Question : \")\n",
    "    prepro1 = clean_one_sent(prepro1)\n",
    "    prepro = [prepro1]\n",
    "    txt = []\n",
    "    for x in prepro:\n",
    "        lst = []\n",
    "        for y in x.split():\n",
    "            try:\n",
    "                lst.append(word2index[y])\n",
    "            except:\n",
    "                lst.append(word2index['<OUT>'])\n",
    "        txt.append(lst)\n",
    "        txt = pad_sequences(txt, MAX_LEN, padding='post')\n",
    "\n",
    "    stat = enc_model.predict( txt )\n",
    "    empty_target_seq = np.zeros( ( 1 , 1) )\n",
    "    empty_target_seq[0, 0] = word2index['<BOS>']\n",
    "    stop_condition = False\n",
    "\n",
    "    decoded_translation = ''\n",
    "\n",
    "    while not stop_condition :\n",
    "        dec_outputs , h, c= dec_model.predict([empty_target_seq] + stat )\n",
    "        decoder_concat_input = dense(dec_outputs)\n",
    "        sampled_word_index = np.argmax( decoder_concat_input[0, -1, :] )\n",
    "        sampled_word = index2word[sampled_word_index] + ' '\n",
    "\n",
    "        if sampled_word != '<EOS> ':\n",
    "            decoded_translation += sampled_word\n",
    "        if sampled_word == '<EOS> ' or len(decoded_translation.split()) > MAX_LEN+1:\n",
    "            stop_condition = True\n",
    "\n",
    "        empty_target_seq = np.zeros( ( 1 , 1 ) )  \n",
    "        empty_target_seq[ 0 , 0 ] = sampled_word_index\n",
    "\n",
    "        stat = [h, c]\n",
    "    print(\"Answer : \", decoded_translation )"
   ]
  },
  {
   "cell_type": "code",
   "execution_count": null,
   "metadata": {},
   "outputs": [],
   "source": []
  }
 ],
 "metadata": {
  "kernelspec": {
   "display_name": "Python 3",
   "language": "python",
   "name": "python3"
  },
  "language_info": {
   "codemirror_mode": {
    "name": "ipython",
    "version": 3
   },
   "file_extension": ".py",
   "mimetype": "text/x-python",
   "name": "python",
   "nbconvert_exporter": "python",
   "pygments_lexer": "ipython3",
   "version": "3.6.7rc1"
  }
 },
 "nbformat": 4,
 "nbformat_minor": 4
}
