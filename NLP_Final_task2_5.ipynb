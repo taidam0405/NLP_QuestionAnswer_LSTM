{
 "cells": [
  {
   "cell_type": "code",
   "execution_count": 40,
   "metadata": {},
   "outputs": [],
   "source": [
    "import pandas as pd\n",
    "from pyvi import ViTokenizer, ViPosTagger\n",
    "import nltk\n",
    "import numpy as np\n",
    "import warnings\n",
    "import time\n",
    "warnings.filterwarnings('ignore')"
   ]
  },
  {
   "cell_type": "code",
   "execution_count": 41,
   "metadata": {},
   "outputs": [],
   "source": [
    "filename =[\"bạn bè.txt\",\"các câu hỏi phức tạp.txt\",\"du lịch.txt\",\"gia đình.txt\",\"giải trí.txt\",\n",
    "           \"học tập.txt\",\"nghề nghiệp.txt\",\"nghỉ lễ.txt\",\"người yêu.txt\",\"robot.txt\",\"shoping.txt\",\n",
    "           \"sở thích.txt\",\"tdtu.txt\",\"thông tin cá nhân.txt\",\"trò chuyện về đi ăn.txt\",\"tán gẫu.txt\",\"đất nước.txt\",\"địa chỉ.txt\"]"
   ]
  },
  {
   "cell_type": "code",
   "execution_count": 42,
   "metadata": {},
   "outputs": [],
   "source": [
    "# import train data\n",
    "temp_ques = []\n",
    "temp_ans = []\n",
    "tag = []\n",
    "for k in range(len(filename)):\n",
    "    with open('dataset/' + filename[k], encoding='utf-8') as f:\n",
    "        lines = f.readlines()\n",
    "    for i in range(len(lines)):\n",
    "        if lines[i].startswith('__eou__'):\n",
    "            continue\n",
    "        else:\n",
    "            part = lines[i].strip('__eou__').split('__eou__')\n",
    "            temp_ques.append(ViTokenizer.tokenize(part[0].lower().strip()))\n",
    "            temp_ans.append(ViTokenizer.tokenize(part[1].lower().strip()))\n",
    "            tag.append(filename[k].split(\".\")[0])"
   ]
  },
  {
   "cell_type": "code",
   "execution_count": 43,
   "metadata": {},
   "outputs": [
    {
     "data": {
      "text/html": [
       "<div>\n",
       "<style scoped>\n",
       "    .dataframe tbody tr th:only-of-type {\n",
       "        vertical-align: middle;\n",
       "    }\n",
       "\n",
       "    .dataframe tbody tr th {\n",
       "        vertical-align: top;\n",
       "    }\n",
       "\n",
       "    .dataframe thead th {\n",
       "        text-align: right;\n",
       "    }\n",
       "</style>\n",
       "<table border=\"1\" class=\"dataframe\">\n",
       "  <thead>\n",
       "    <tr style=\"text-align: right;\">\n",
       "      <th></th>\n",
       "      <th>Question</th>\n",
       "      <th>Answer</th>\n",
       "      <th>Tag</th>\n",
       "    </tr>\n",
       "  </thead>\n",
       "  <tbody>\n",
       "    <tr>\n",
       "      <th>0</th>\n",
       "      <td>thích đánh_lộn không ?</td>\n",
       "      <td>ngon nhà_vô</td>\n",
       "      <td>bạn bè</td>\n",
       "    </tr>\n",
       "    <tr>\n",
       "      <th>1</th>\n",
       "      <td>solo yasua không</td>\n",
       "      <td>chấp lun 2 mạng đầu</td>\n",
       "      <td>bạn bè</td>\n",
       "    </tr>\n",
       "    <tr>\n",
       "      <th>2</th>\n",
       "      <td>mai đi picnic không ?</td>\n",
       "      <td>mai bận học rồi</td>\n",
       "      <td>bạn bè</td>\n",
       "    </tr>\n",
       "    <tr>\n",
       "      <th>3</th>\n",
       "      <td>mai học ca mấy vậy ?</td>\n",
       "      <td>mai học ca 3</td>\n",
       "      <td>bạn bè</td>\n",
       "    </tr>\n",
       "    <tr>\n",
       "      <th>4</th>\n",
       "      <td>còn tiền không ?</td>\n",
       "      <td>còn chết liền</td>\n",
       "      <td>bạn bè</td>\n",
       "    </tr>\n",
       "  </tbody>\n",
       "</table>\n",
       "</div>"
      ],
      "text/plain": [
       "                 Question               Answer     Tag\n",
       "0  thích đánh_lộn không ?          ngon nhà_vô  bạn bè\n",
       "1        solo yasua không  chấp lun 2 mạng đầu  bạn bè\n",
       "2   mai đi picnic không ?      mai bận học rồi  bạn bè\n",
       "3    mai học ca mấy vậy ?         mai học ca 3  bạn bè\n",
       "4        còn tiền không ?        còn chết liền  bạn bè"
      ]
     },
     "execution_count": 43,
     "metadata": {},
     "output_type": "execute_result"
    }
   ],
   "source": [
    "data = pd.DataFrame({'Question':temp_ques,'Answer':temp_ans,'Tag':tag})\n",
    "data.head()"
   ]
  },
  {
   "cell_type": "code",
   "execution_count": 44,
   "metadata": {},
   "outputs": [],
   "source": [
    "ques = np.array(data[\"Question\"])\n",
    "ans = np.array(data[\"Answer\"])"
   ]
  },
  {
   "cell_type": "code",
   "execution_count": 45,
   "metadata": {},
   "outputs": [],
   "source": [
    "lst_empty_answer_index = []\n",
    "for i in range(len(ans)):\n",
    "    if(ans[i] == \"\"):\n",
    "        lst_empty_answer_index.append(i)"
   ]
  },
  {
   "cell_type": "code",
   "execution_count": 46,
   "metadata": {},
   "outputs": [],
   "source": [
    "for i in lst_empty_answer_index:\n",
    "    ques = np.delete(ques, i)\n",
    "    ans = np.delete(ans, i)"
   ]
  },
  {
   "cell_type": "code",
   "execution_count": 47,
   "metadata": {},
   "outputs": [],
   "source": [
    "def clean_sentences(sentences):\n",
    "    Punc = {'.', ',', '...', '-', '“', '”', ':', '(', ')', '\"', '!', '&', ';', '?', '*', ']', '>', '…', '’',\"``\",\"''\"}\n",
    "    for i, sent in enumerate(sentences):\n",
    "        sent = sent.lower()\n",
    "        \n",
    "        sent = [char for char in sent if char not in Punc]\n",
    "        sent = \"\".join(sent)\n",
    "        \n",
    "        sent = sent.replace(\"   \", \" \")\n",
    "        sent = sent.replace(\"  \", \" \")\n",
    "        sent = sent.strip()\n",
    "        \n",
    "        sentences[i] = sent\n",
    "    return sentences"
   ]
  },
  {
   "cell_type": "code",
   "execution_count": 48,
   "metadata": {},
   "outputs": [],
   "source": [
    "clean_ques = clean_sentences(ques)\n",
    "clean_ans = clean_sentences(ans)"
   ]
  },
  {
   "cell_type": "code",
   "execution_count": 49,
   "metadata": {},
   "outputs": [],
   "source": [
    "word2count = {}\n",
    "for sent in clean_ques:\n",
    "    for word in sent.split():\n",
    "        if word not in word2count:\n",
    "            word2count[word] = 1\n",
    "        else:\n",
    "            word2count[word] += 1\n",
    "\n",
    "for sent in clean_ans:\n",
    "    for word in sent.split():\n",
    "        if word not in word2count:\n",
    "            word2count[word] = 1\n",
    "        else:\n",
    "            word2count[word] += 1"
   ]
  },
  {
   "cell_type": "code",
   "execution_count": 50,
   "metadata": {},
   "outputs": [
    {
     "data": {
      "text/plain": [
       "4766"
      ]
     },
     "execution_count": 50,
     "metadata": {},
     "output_type": "execute_result"
    }
   ],
   "source": [
    "len(word2count)"
   ]
  },
  {
   "cell_type": "code",
   "execution_count": 51,
   "metadata": {},
   "outputs": [],
   "source": [
    "thresh = 1\n",
    "word2index = {}\n",
    "word_num = 0\n",
    "\n",
    "for word, count in word2count.items():\n",
    "    if (count >= thresh):\n",
    "        word2index[word] = word_num\n",
    "        word_num += 1"
   ]
  },
  {
   "cell_type": "code",
   "execution_count": 52,
   "metadata": {},
   "outputs": [
    {
     "data": {
      "text/plain": [
       "4766"
      ]
     },
     "execution_count": 52,
     "metadata": {},
     "output_type": "execute_result"
    }
   ],
   "source": [
    "len(word2index)"
   ]
  },
  {
   "cell_type": "code",
   "execution_count": 53,
   "metadata": {},
   "outputs": [],
   "source": [
    "for i in range(len(clean_ans)):\n",
    "    clean_ans[i] = '<BOS> ' + clean_ans[i] + ' <EOS>'"
   ]
  },
  {
   "cell_type": "code",
   "execution_count": 54,
   "metadata": {},
   "outputs": [
    {
     "data": {
      "text/plain": [
       "5769"
      ]
     },
     "execution_count": 54,
     "metadata": {},
     "output_type": "execute_result"
    }
   ],
   "source": [
    "len(clean_ans)"
   ]
  },
  {
   "cell_type": "code",
   "execution_count": 55,
   "metadata": {},
   "outputs": [],
   "source": [
    "tokens = ['<BOS>', '<EOS>', '<OUT>']\n",
    "x = len(word2index)\n",
    "for token in tokens:\n",
    "    word2index[token] = x\n",
    "    x += 1"
   ]
  },
  {
   "cell_type": "code",
   "execution_count": 56,
   "metadata": {},
   "outputs": [
    {
     "data": {
      "text/plain": [
       "4769"
      ]
     },
     "execution_count": 56,
     "metadata": {},
     "output_type": "execute_result"
    }
   ],
   "source": [
    "len(word2index)"
   ]
  },
  {
   "cell_type": "code",
   "execution_count": 57,
   "metadata": {},
   "outputs": [
    {
     "data": {
      "text/plain": [
       "4769"
      ]
     },
     "execution_count": 57,
     "metadata": {},
     "output_type": "execute_result"
    }
   ],
   "source": [
    "index2word = {w: v for v, w in word2index.items()}\n",
    "len(index2word)"
   ]
  },
  {
   "cell_type": "code",
   "execution_count": 60,
   "metadata": {},
   "outputs": [],
   "source": [
    "encoder_input = []\n",
    "for sent in clean_ques:\n",
    "    lst = []\n",
    "    for word in sent.split():\n",
    "        if word not in word2index:\n",
    "            lst.append(word2index[\"<OUT>\"])\n",
    "        else:\n",
    "            lst.append(word2index[word])\n",
    "    encoder_input.append(lst)"
   ]
  },
  {
   "cell_type": "code",
   "execution_count": 62,
   "metadata": {},
   "outputs": [
    {
     "data": {
      "text/plain": [
       "5769"
      ]
     },
     "execution_count": 62,
     "metadata": {},
     "output_type": "execute_result"
    }
   ],
   "source": [
    "len(encoder_input)"
   ]
  },
  {
   "cell_type": "code",
   "execution_count": 61,
   "metadata": {},
   "outputs": [],
   "source": [
    "decoder_input = []\n",
    "for sent in clean_ans:\n",
    "    lst = []\n",
    "    for word in sent.split():\n",
    "        if word not in word2index:\n",
    "            lst.append(word2index[\"<OUT>\"])\n",
    "        else:\n",
    "            lst.append(word2index[word])\n",
    "    decoder_input.append(lst)"
   ]
  },
  {
   "cell_type": "code",
   "execution_count": 59,
   "metadata": {},
   "outputs": [
    {
     "data": {
      "text/plain": [
       "5769"
      ]
     },
     "execution_count": 59,
     "metadata": {},
     "output_type": "execute_result"
    }
   ],
   "source": [
    "len(decoder_input)"
   ]
  },
  {
   "cell_type": "code",
   "execution_count": 77,
   "metadata": {},
   "outputs": [],
   "source": [
    "from keras.preprocessing.sequence import pad_sequences\n",
    "MAX_LEN = 20\n",
    "encoder_input = pad_sequences(encoder_input, MAX_LEN, padding='post', truncating='post')\n",
    "decoder_input = pad_sequences(decoder_input, MAX_LEN, padding='post', truncating='post')"
   ]
  },
  {
   "cell_type": "code",
   "execution_count": 65,
   "metadata": {},
   "outputs": [],
   "source": [
    "decoder_final_output = []\n",
    "for i in decoder_input:\n",
    "    decoder_final_output.append(i[1:])"
   ]
  },
  {
   "cell_type": "code",
   "execution_count": 66,
   "metadata": {},
   "outputs": [
    {
     "data": {
      "text/plain": [
       "[array([ 986, 2522, 4767,    0,    0,    0,    0,    0,    0,    0,    0,\n",
       "           0,    0,    0,    0,    0,    0,    0,    0]),\n",
       " array([2523, 2252,  453,  490,  474, 4767,    0,    0,    0,    0,    0,\n",
       "           0,    0,    0,    0,    0,    0,    0,    0]),\n",
       " array([   5,  803,    8,   15, 4767,    0,    0,    0,    0,    0,    0,\n",
       "           0,    0,    0,    0,    0,    0,    0,    0])]"
      ]
     },
     "execution_count": 66,
     "metadata": {},
     "output_type": "execute_result"
    }
   ],
   "source": [
    "decoder_final_output[:3]"
   ]
  },
  {
   "cell_type": "code",
   "execution_count": 67,
   "metadata": {},
   "outputs": [
    {
     "data": {
      "text/plain": [
       "array([[ 986, 2522, 4767,    0,    0,    0,    0,    0,    0,    0,    0,\n",
       "           0,    0,    0,    0,    0,    0,    0,    0,    0],\n",
       "       [2523, 2252,  453,  490,  474, 4767,    0,    0,    0,    0,    0,\n",
       "           0,    0,    0,    0,    0,    0,    0,    0,    0],\n",
       "       [   5,  803,    8,   15, 4767,    0,    0,    0,    0,    0,    0,\n",
       "           0,    0,    0,    0,    0,    0,    0,    0,    0]])"
      ]
     },
     "execution_count": 67,
     "metadata": {},
     "output_type": "execute_result"
    }
   ],
   "source": [
    "decoder_final_output = pad_sequences(decoder_final_output, MAX_LEN, padding='post', truncating='post')\n",
    "decoder_final_output[:3]"
   ]
  },
  {
   "cell_type": "code",
   "execution_count": 68,
   "metadata": {},
   "outputs": [],
   "source": [
    "from keras.utils import to_categorical\n",
    "decoder_final_output = to_categorical(decoder_final_output, len(word2index))"
   ]
  },
  {
   "cell_type": "code",
   "execution_count": 69,
   "metadata": {},
   "outputs": [
    {
     "data": {
      "text/plain": [
       "(5769, 20, 4769)"
      ]
     },
     "execution_count": 69,
     "metadata": {},
     "output_type": "execute_result"
    }
   ],
   "source": [
    "decoder_final_output.shape"
   ]
  },
  {
   "cell_type": "code",
   "execution_count": 70,
   "metadata": {},
   "outputs": [],
   "source": [
    "from keras.layers import Embedding\n",
    "from keras.layers import Input, Dense, LSTM, TimeDistributed\n",
    "from keras.models import Model"
   ]
  },
  {
   "cell_type": "code",
   "execution_count": 71,
   "metadata": {},
   "outputs": [],
   "source": [
    "# Define input\n",
    "enc_inp = Input(shape=(MAX_LEN, ))\n",
    "dec_inp = Input(shape=(MAX_LEN, ))\n",
    "\n",
    "VOCAB_SIZE = len(word2index)\n",
    "HIDDEN_DIM = 300\n",
    "embedding_dimention = 100\n",
    "\n",
    "# Define embedding layer\n",
    "embed = Embedding(VOCAB_SIZE + 1, output_dim = embedding_dimention, input_length = MAX_LEN, trainable = True)"
   ]
  },
  {
   "cell_type": "code",
   "execution_count": 75,
   "metadata": {},
   "outputs": [],
   "source": [
    "# Define encoder layers\n",
    "enc_embed = embed(enc_inp)\n",
    "enc_lstm = LSTM(HIDDEN_DIM, return_sequences = True, return_state = True)\n",
    "enc_op, h, c = enc_lstm(enc_embed)\n",
    "enc_states = [h, c]\n",
    "\n",
    "#Define decoder layers\n",
    "dec_embed = embed(dec_inp)\n",
    "dec_lstm = LSTM(HIDDEN_DIM, return_sequences = True, return_state = True)\n",
    "dec_op, _, _ = dec_lstm(dec_embed, initial_state = enc_states)\n",
    "\n",
    "dense = Dense(VOCAB_SIZE, activation = \"softmax\")\n",
    "\n",
    "dense_op = dense(dec_op)\n",
    "\n",
    "model = Model([enc_inp, dec_inp], dense_op)"
   ]
  },
  {
   "cell_type": "code",
   "execution_count": 88,
   "metadata": {},
   "outputs": [
    {
     "name": "stdout",
     "output_type": "stream",
     "text": [
      "Epoch 1/100\n",
      "181/181 [==============================] - 66s 364ms/step - loss: 1.6092 - acc: 0.7086\n",
      "Epoch 2/100\n",
      "181/181 [==============================] - 79s 438ms/step - loss: 1.5206 - acc: 0.7146\n",
      "Epoch 3/100\n",
      "181/181 [==============================] - 67s 372ms/step - loss: 1.4588 - acc: 0.72200s - loss: 1.4588 - acc: 0.722\n",
      "Epoch 4/100\n",
      "181/181 [==============================] - 65s 358ms/step - loss: 1.3974 - acc: 0.7300\n",
      "Epoch 5/100\n",
      "181/181 [==============================] - 66s 364ms/step - loss: 1.3410 - acc: 0.7386\n",
      "Epoch 6/100\n",
      "181/181 [==============================] - 66s 363ms/step - loss: 1.2847 - acc: 0.7480\n",
      "Epoch 7/100\n",
      "181/181 [==============================] - 65s 361ms/step - loss: 1.2349 - acc: 0.7554\n",
      "Epoch 8/100\n",
      "181/181 [==============================] - 65s 361ms/step - loss: 1.1867 - acc: 0.7627\n",
      "Epoch 9/100\n",
      "181/181 [==============================] - 66s 365ms/step - loss: 1.1410 - acc: 0.7700\n",
      "Epoch 10/100\n",
      "181/181 [==============================] - 66s 363ms/step - loss: 1.1001 - acc: 0.7767\n",
      "Epoch 11/100\n",
      "181/181 [==============================] - 65s 359ms/step - loss: 1.0587 - acc: 0.7840\n",
      "Epoch 12/100\n",
      "181/181 [==============================] - 65s 360ms/step - loss: 1.0198 - acc: 0.7911\n",
      "Epoch 13/100\n",
      "181/181 [==============================] - 65s 360ms/step - loss: 0.9826 - acc: 0.7967\n",
      "Epoch 14/100\n",
      "181/181 [==============================] - 65s 359ms/step - loss: 0.9476 - acc: 0.8040\n",
      "Epoch 15/100\n",
      "181/181 [==============================] - 65s 361ms/step - loss: 0.9124 - acc: 0.8108\n",
      "Epoch 16/100\n",
      "181/181 [==============================] - 65s 359ms/step - loss: 0.8778 - acc: 0.8181\n",
      "Epoch 17/100\n",
      "181/181 [==============================] - 65s 361ms/step - loss: 0.8448 - acc: 0.8237\n",
      "Epoch 18/100\n",
      "181/181 [==============================] - 65s 359ms/step - loss: 0.8132 - acc: 0.8306\n",
      "Epoch 19/100\n",
      "181/181 [==============================] - 65s 359ms/step - loss: 0.7826 - acc: 0.8363\n",
      "Epoch 20/100\n",
      "181/181 [==============================] - 65s 359ms/step - loss: 0.7518 - acc: 0.8426\n",
      "Epoch 21/100\n",
      "181/181 [==============================] - 65s 360ms/step - loss: 0.7238 - acc: 0.8480\n",
      "Epoch 22/100\n",
      "181/181 [==============================] - 65s 359ms/step - loss: 0.6958 - acc: 0.8541\n",
      "Epoch 23/100\n",
      "181/181 [==============================] - 66s 363ms/step - loss: 0.6689 - acc: 0.8589\n",
      "Epoch 24/100\n",
      "181/181 [==============================] - 67s 370ms/step - loss: 0.6426 - acc: 0.8651\n",
      "Epoch 25/100\n",
      "181/181 [==============================] - 66s 364ms/step - loss: 0.6188 - acc: 0.8699\n",
      "Epoch 26/100\n",
      "181/181 [==============================] - 66s 365ms/step - loss: 0.5936 - acc: 0.8747\n",
      "Epoch 27/100\n",
      "181/181 [==============================] - 65s 359ms/step - loss: 0.5696 - acc: 0.8792\n",
      "Epoch 28/100\n",
      "181/181 [==============================] - 65s 358ms/step - loss: 0.5451 - acc: 0.8856\n",
      "Epoch 29/100\n",
      "181/181 [==============================] - 65s 357ms/step - loss: 0.5230 - acc: 0.8903\n",
      "Epoch 30/100\n",
      "181/181 [==============================] - 65s 357ms/step - loss: 0.5022 - acc: 0.8938\n",
      "Epoch 31/100\n",
      "181/181 [==============================] - 65s 356ms/step - loss: 0.4826 - acc: 0.8983\n",
      "Epoch 32/100\n",
      "181/181 [==============================] - 65s 357ms/step - loss: 0.4634 - acc: 0.9024\n",
      "Epoch 33/100\n",
      "181/181 [==============================] - 65s 359ms/step - loss: 0.4421 - acc: 0.9067\n",
      "Epoch 34/100\n",
      "181/181 [==============================] - 65s 358ms/step - loss: 0.4234 - acc: 0.9111\n",
      "Epoch 35/100\n",
      "181/181 [==============================] - 65s 359ms/step - loss: 0.4057 - acc: 0.9145\n",
      "Epoch 36/100\n",
      "181/181 [==============================] - 65s 359ms/step - loss: 0.3894 - acc: 0.9186\n",
      "Epoch 37/100\n",
      "181/181 [==============================] - 66s 362ms/step - loss: 0.3709 - acc: 0.9224\n",
      "Epoch 38/100\n",
      "181/181 [==============================] - 65s 360ms/step - loss: 0.3545 - acc: 0.9256\n",
      "Epoch 39/100\n",
      "181/181 [==============================] - 65s 358ms/step - loss: 0.3387 - acc: 0.9289\n",
      "Epoch 40/100\n",
      "181/181 [==============================] - 65s 358ms/step - loss: 0.3223 - acc: 0.9329\n",
      "Epoch 41/100\n",
      "181/181 [==============================] - 65s 357ms/step - loss: 0.3080 - acc: 0.9358\n",
      "Epoch 42/100\n",
      "181/181 [==============================] - 64s 356ms/step - loss: 0.2939 - acc: 0.9386\n",
      "Epoch 43/100\n",
      "181/181 [==============================] - 65s 357ms/step - loss: 0.2795 - acc: 0.9415\n",
      "Epoch 44/100\n",
      "181/181 [==============================] - 65s 358ms/step - loss: 0.2668 - acc: 0.9448\n",
      "Epoch 45/100\n",
      "181/181 [==============================] - 64s 356ms/step - loss: 0.2548 - acc: 0.9469\n",
      "Epoch 46/100\n",
      "181/181 [==============================] - 64s 356ms/step - loss: 0.2419 - acc: 0.9496\n",
      "Epoch 47/100\n",
      "181/181 [==============================] - 64s 356ms/step - loss: 0.2320 - acc: 0.9522\n",
      "Epoch 48/100\n",
      "181/181 [==============================] - 65s 357ms/step - loss: 0.2181 - acc: 0.9551\n",
      "Epoch 49/100\n",
      "181/181 [==============================] - 64s 356ms/step - loss: 0.2060 - acc: 0.9578\n",
      "Epoch 50/100\n",
      "181/181 [==============================] - 64s 356ms/step - loss: 0.1945 - acc: 0.9600\n",
      "Epoch 51/100\n",
      "181/181 [==============================] - 72s 399ms/step - loss: 0.1859 - acc: 0.9622\n",
      "Epoch 52/100\n",
      "181/181 [==============================] - 84s 463ms/step - loss: 0.1774 - acc: 0.9638\n",
      "Epoch 53/100\n",
      "181/181 [==============================] - 67s 372ms/step - loss: 0.1675 - acc: 0.9660\n",
      "Epoch 54/100\n",
      "181/181 [==============================] - 76s 420ms/step - loss: 0.1592 - acc: 0.9681\n",
      "Epoch 55/100\n",
      "181/181 [==============================] - 75s 412ms/step - loss: 0.1522 - acc: 0.9689\n",
      "Epoch 56/100\n",
      "181/181 [==============================] - 86s 476ms/step - loss: 0.1434 - acc: 0.9707\n",
      "Epoch 57/100\n",
      "181/181 [==============================] - 75s 416ms/step - loss: 0.1383 - acc: 0.9722\n",
      "Epoch 58/100\n",
      "181/181 [==============================] - 75s 415ms/step - loss: 0.1314 - acc: 0.9740\n",
      "Epoch 59/100\n",
      "181/181 [==============================] - 77s 423ms/step - loss: 0.1272 - acc: 0.9748\n",
      "Epoch 60/100\n",
      "181/181 [==============================] - 74s 407ms/step - loss: 0.1241 - acc: 0.9750\n",
      "Epoch 61/100\n",
      "181/181 [==============================] - 70s 386ms/step - loss: 0.1137 - acc: 0.9773\n",
      "Epoch 62/100\n",
      "181/181 [==============================] - 74s 408ms/step - loss: 0.1065 - acc: 0.9788\n",
      "Epoch 63/100\n",
      "181/181 [==============================] - 74s 407ms/step - loss: 0.0976 - acc: 0.9805\n",
      "Epoch 64/100\n",
      "181/181 [==============================] - 77s 426ms/step - loss: 0.0914 - acc: 0.9817\n",
      "Epoch 65/100\n",
      "181/181 [==============================] - 65s 359ms/step - loss: 0.0875 - acc: 0.9820\n",
      "Epoch 66/100\n",
      "181/181 [==============================] - 65s 356ms/step - loss: 0.0838 - acc: 0.9825\n",
      "Epoch 67/100\n",
      "181/181 [==============================] - 64s 354ms/step - loss: 0.0796 - acc: 0.9836\n",
      "Epoch 68/100\n",
      "181/181 [==============================] - 64s 353ms/step - loss: 0.0759 - acc: 0.9846\n",
      "Epoch 69/100\n",
      "181/181 [==============================] - 64s 356ms/step - loss: 0.0739 - acc: 0.9847\n",
      "Epoch 70/100\n",
      "181/181 [==============================] - 64s 355ms/step - loss: 0.0711 - acc: 0.9855\n",
      "Epoch 71/100\n",
      "181/181 [==============================] - 64s 354ms/step - loss: 0.0678 - acc: 0.9860\n",
      "Epoch 72/100\n",
      "181/181 [==============================] - 64s 356ms/step - loss: 0.0675 - acc: 0.9861\n",
      "Epoch 73/100\n",
      "181/181 [==============================] - 64s 353ms/step - loss: 0.0961 - acc: 0.9795\n",
      "Epoch 74/100\n",
      "181/181 [==============================] - 64s 352ms/step - loss: 0.0964 - acc: 0.9792\n",
      "Epoch 75/100\n",
      "181/181 [==============================] - 63s 350ms/step - loss: 0.0690 - acc: 0.9858\n",
      "Epoch 76/100\n",
      "181/181 [==============================] - 64s 354ms/step - loss: 0.0572 - acc: 0.9880\n",
      "Epoch 77/100\n",
      "181/181 [==============================] - 64s 352ms/step - loss: 0.0506 - acc: 0.9888\n",
      "Epoch 78/100\n",
      "181/181 [==============================] - 63s 351ms/step - loss: 0.0474 - acc: 0.9893\n",
      "Epoch 79/100\n",
      "181/181 [==============================] - 63s 351ms/step - loss: 0.0459 - acc: 0.9893\n",
      "Epoch 80/100\n",
      "181/181 [==============================] - 63s 350ms/step - loss: 0.0454 - acc: 0.9894\n",
      "Epoch 81/100\n",
      "181/181 [==============================] - 64s 351ms/step - loss: 0.0443 - acc: 0.9895\n",
      "Epoch 82/100\n",
      "181/181 [==============================] - 63s 349ms/step - loss: 0.0429 - acc: 0.9896\n",
      "Epoch 83/100\n",
      "181/181 [==============================] - 63s 349ms/step - loss: 0.0427 - acc: 0.9896\n",
      "Epoch 84/100\n",
      "181/181 [==============================] - 64s 356ms/step - loss: 0.0415 - acc: 0.9899\n",
      "Epoch 85/100\n",
      "181/181 [==============================] - 64s 351ms/step - loss: 0.0419 - acc: 0.9896\n",
      "Epoch 86/100\n",
      "181/181 [==============================] - 63s 350ms/step - loss: 0.0433 - acc: 0.9895\n",
      "Epoch 87/100\n",
      "181/181 [==============================] - 63s 350ms/step - loss: 0.0423 - acc: 0.9896\n",
      "Epoch 88/100\n",
      "181/181 [==============================] - 63s 349ms/step - loss: 0.0401 - acc: 0.9899\n",
      "Epoch 89/100\n",
      "181/181 [==============================] - 63s 349ms/step - loss: 0.0407 - acc: 0.9899\n",
      "Epoch 90/100\n",
      "181/181 [==============================] - 63s 348ms/step - loss: 0.0437 - acc: 0.9893\n",
      "Epoch 91/100\n",
      "181/181 [==============================] - 63s 348ms/step - loss: 0.0948 - acc: 0.9756\n",
      "Epoch 92/100\n",
      "181/181 [==============================] - 63s 349ms/step - loss: 0.0731 - acc: 0.9818\n",
      "Epoch 93/100\n",
      "181/181 [==============================] - 64s 351ms/step - loss: 0.0453 - acc: 0.9893\n",
      "Epoch 94/100\n",
      "181/181 [==============================] - 63s 350ms/step - loss: 0.0351 - acc: 0.9909\n",
      "Epoch 95/100\n",
      "181/181 [==============================] - 63s 349ms/step - loss: 0.0322 - acc: 0.9911\n",
      "Epoch 96/100\n",
      "181/181 [==============================] - 63s 350ms/step - loss: 0.0307 - acc: 0.9911\n",
      "Epoch 97/100\n",
      "181/181 [==============================] - 67s 370ms/step - loss: 0.0300 - acc: 0.9910\n",
      "Epoch 98/100\n",
      "181/181 [==============================] - 65s 357ms/step - loss: 0.0298 - acc: 0.9910\n",
      "Epoch 99/100\n",
      "181/181 [==============================] - 64s 354ms/step - loss: 0.0295 - acc: 0.9911\n",
      "Epoch 100/100\n",
      "181/181 [==============================] - 64s 354ms/step - loss: 0.0295 - acc: 0.9912\n"
     ]
    },
    {
     "data": {
      "text/plain": [
       "<tensorflow.python.keras.callbacks.History at 0x136decbd978>"
      ]
     },
     "execution_count": 88,
     "metadata": {},
     "output_type": "execute_result"
    }
   ],
   "source": [
    "# Train model\n",
    "model.compile(loss='categorical_crossentropy',metrics=['acc'],optimizer='adam')\n",
    "\n",
    "BATCH_SIZE = 32\n",
    "EPOCHS = 100\n",
    "\n",
    "model.fit([encoder_input, decoder_input],decoder_final_output,epochs=EPOCHS,batch_size=BATCH_SIZE)"
   ]
  },
  {
   "cell_type": "code",
   "execution_count": 89,
   "metadata": {},
   "outputs": [
    {
     "name": "stdout",
     "output_type": "stream",
     "text": [
      "INFO:tensorflow:Assets written to: LSTM_model\\assets\n"
     ]
    }
   ],
   "source": [
    "model.save(\"LSTM_model\")"
   ]
  },
  {
   "cell_type": "code",
   "execution_count": 122,
   "metadata": {},
   "outputs": [],
   "source": [
    "import keras.models\n",
    "model = keras.models.load_model(\"LSTM_model.h5\")"
   ]
  },
  {
   "cell_type": "code",
   "execution_count": 121,
   "metadata": {},
   "outputs": [],
   "source": [
    "model.save(\"LSTM_model.h5\")"
   ]
  },
  {
   "cell_type": "code",
   "execution_count": 123,
   "metadata": {},
   "outputs": [
    {
     "name": "stdout",
     "output_type": "stream",
     "text": [
      "Model: \"functional_1\"\n",
      "__________________________________________________________________________________________________\n",
      "Layer (type)                    Output Shape         Param #     Connected to                     \n",
      "==================================================================================================\n",
      "input_2 (InputLayer)            [(None, 20)]         0                                            \n",
      "__________________________________________________________________________________________________\n",
      "input_1 (InputLayer)            [(None, 20)]         0                                            \n",
      "__________________________________________________________________________________________________\n",
      "embedding (Embedding)           (None, 20, 100)      477000      input_1[0][0]                    \n",
      "                                                                 input_2[0][0]                    \n",
      "__________________________________________________________________________________________________\n",
      "lstm_2 (LSTM)                   [(None, 20, 300), (N 481200      embedding[0][0]                  \n",
      "__________________________________________________________________________________________________\n",
      "lstm_3 (LSTM)                   [(None, 20, 300), (N 481200      embedding[1][0]                  \n",
      "                                                                 lstm_2[0][1]                     \n",
      "                                                                 lstm_2[0][2]                     \n",
      "__________________________________________________________________________________________________\n",
      "dense (Dense)                   (None, 20, 4769)     1435469     lstm_3[0][0]                     \n",
      "==================================================================================================\n",
      "Total params: 2,874,869\n",
      "Trainable params: 2,874,869\n",
      "Non-trainable params: 0\n",
      "__________________________________________________________________________________________________\n"
     ]
    }
   ],
   "source": [
    "model.summary()"
   ]
  },
  {
   "cell_type": "code",
   "execution_count": 124,
   "metadata": {},
   "outputs": [],
   "source": [
    "#Load encoder model\n",
    "enc_inp = model.input[0]\n",
    "enc_op, h, c = model.layers[3].output\n",
    "enc_states = [h, c]\n",
    "\n",
    "enc_model = Model([enc_inp], enc_states)"
   ]
  },
  {
   "cell_type": "code",
   "execution_count": 125,
   "metadata": {},
   "outputs": [],
   "source": [
    "#Load decoder model to predict next word\n",
    "decoder_state_input_h = Input(shape=(HIDDEN_DIM,))\n",
    "decoder_state_input_c = Input(shape=(HIDDEN_DIM,))\n",
    "decoder_states_inputs = [decoder_state_input_h, decoder_state_input_c]\n",
    "\n",
    "dec_inp = model.input[1]\n",
    "embed = model.layers[2] # Embedding layer\n",
    "dec_lstm = model.layers[4] # Decoder layer\n",
    "dense = model.layers[5] # Dense\n",
    "\n",
    "dec_embed = embed(dec_inp)\n",
    "decoder_outputs, state_h, state_c = dec_lstm(dec_embed , initial_state=decoder_states_inputs)\n",
    "\n",
    "decoder_states = [state_h, state_c]\n",
    "# output = dense(decoder_outputs)\n",
    "\n",
    "dec_model = Model([dec_inp]+ decoder_states_inputs, [decoder_outputs] + decoder_states)"
   ]
  },
  {
   "cell_type": "code",
   "execution_count": 126,
   "metadata": {},
   "outputs": [],
   "source": [
    "def clean_one_sent(sent):\n",
    "    Punc = {'.', ',', '...', '-', '“', '”', ':', '(', ')', '\"', '!', '&', ';', '?', '*', ']', '>', '…', '’',\"``\",\"''\"}\n",
    "    sent = sent.lower()\n",
    "\n",
    "    sent = [char for char in sent if char not in Punc]\n",
    "    sent = \"\".join(sent)\n",
    "\n",
    "    sent = sent.replace(\"   \", \" \")\n",
    "    sent = sent.replace(\"  \", \" \")\n",
    "    sent = sent.strip()\n",
    "\n",
    "    sent = ViTokenizer.tokenize(sent)\n",
    "    \n",
    "    return sent"
   ]
  },
  {
   "cell_type": "code",
   "execution_count": 127,
   "metadata": {},
   "outputs": [
    {
     "name": "stdout",
     "output_type": "stream",
     "text": [
      "Question : bạn có crush chưa?\n",
      "WARNING:tensorflow:Model was constructed with shape (None, 20) for input Tensor(\"input_2_4:0\", shape=(None, 20), dtype=float32), but it was called on an input with incompatible shape (None, 1).\n",
      "Answer :  có rồi bạn \n",
      "Question : quit\n",
      "Answer :  \n"
     ]
    }
   ],
   "source": [
    "prepro1 = \"\"\n",
    "while prepro1 != 'quit':\n",
    "    prepro1  = input(\"Question : \")\n",
    "    prepro1 = clean_one_sent(prepro1)\n",
    "    prepro = [prepro1]\n",
    "    txt = []\n",
    "    for x in prepro:\n",
    "        lst = []\n",
    "        for y in x.split():\n",
    "            try:\n",
    "                lst.append(word2index[y])\n",
    "            except:\n",
    "                lst.append(word2index['<OUT>'])\n",
    "        txt.append(lst)\n",
    "        txt = pad_sequences(txt, MAX_LEN, padding='post')\n",
    "\n",
    "    stat = enc_model.predict( txt )\n",
    "    empty_target_seq = np.zeros( ( 1 , 1) )\n",
    "    empty_target_seq[0, 0] = word2index['<BOS>']\n",
    "    stop_condition = False\n",
    "\n",
    "    decoded_translation = ''\n",
    "\n",
    "    while not stop_condition :\n",
    "        dec_outputs , h, c= dec_model.predict([empty_target_seq] + stat )\n",
    "        decoder_concat_input = dense(dec_outputs)\n",
    "        sampled_word_index = np.argmax( decoder_concat_input[0, -1, :] )\n",
    "        sampled_word = index2word[sampled_word_index] + ' '\n",
    "\n",
    "        if sampled_word != '<EOS> ':\n",
    "            decoded_translation += sampled_word\n",
    "        if sampled_word == '<EOS> ' or len(decoded_translation.split()) > MAX_LEN+1:\n",
    "            stop_condition = True\n",
    "\n",
    "        empty_target_seq = np.zeros( ( 1 , 1 ) )  \n",
    "        empty_target_seq[ 0 , 0 ] = sampled_word_index\n",
    "\n",
    "        stat = [h, c]\n",
    "    print(\"Answer : \", decoded_translation )"
   ]
  },
  {
   "cell_type": "code",
   "execution_count": null,
   "metadata": {},
   "outputs": [],
   "source": []
  }
 ],
 "metadata": {
  "kernelspec": {
   "display_name": "Python 3",
   "language": "python",
   "name": "python3"
  },
  "language_info": {
   "codemirror_mode": {
    "name": "ipython",
    "version": 3
   },
   "file_extension": ".py",
   "mimetype": "text/x-python",
   "name": "python",
   "nbconvert_exporter": "python",
   "pygments_lexer": "ipython3",
   "version": "3.6.7rc1"
  }
 },
 "nbformat": 4,
 "nbformat_minor": 4
}
